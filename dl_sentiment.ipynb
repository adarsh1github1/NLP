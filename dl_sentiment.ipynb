{
  "nbformat": 4,
  "nbformat_minor": 0,
  "metadata": {
    "colab": {
      "name": "dl_sentiment.ipynb",
      "provenance": []
    },
    "kernelspec": {
      "name": "python3",
      "display_name": "Python 3"
    },
    "language_info": {
      "name": "python"
    },
    "accelerator": "GPU"
  },
  "cells": [
    {
      "cell_type": "code",
      "metadata": {
        "id": "0Lqs-_9YhGuT"
      },
      "source": [
        "import os\n",
        "import pandas as pd"
      ],
      "execution_count": null,
      "outputs": []
    },
    {
      "cell_type": "code",
      "metadata": {
        "colab": {
          "base_uri": "https://localhost:8080/"
        },
        "id": "h_kcyVVYR942",
        "outputId": "09eb8634-1afa-4971-8b36-3434f6973850"
      },
      "source": [
        "from google.colab import drive\n",
        "drive.mount('/content/drive')"
      ],
      "execution_count": null,
      "outputs": [
        {
          "output_type": "stream",
          "name": "stdout",
          "text": [
            "Mounted at /content/drive\n"
          ]
        }
      ]
    },
    {
      "cell_type": "code",
      "metadata": {
        "id": "6j2di9seiX3r",
        "colab": {
          "base_uri": "https://localhost:8080/"
        },
        "outputId": "19ffad30-68c2-4081-a1b3-9eb2c4ec1577"
      },
      "source": [
        "cd /content/drive/MyDrive/NLP/zs1"
      ],
      "execution_count": null,
      "outputs": [
        {
          "output_type": "stream",
          "name": "stdout",
          "text": [
            "/content/drive/.shortcut-targets-by-id/1x6VDl8Zpmr-99phU-BoEaMo0ZKhEnC38/zs1\n"
          ]
        }
      ]
    },
    {
      "cell_type": "code",
      "metadata": {
        "id": "5AV4ae1giZYw"
      },
      "source": [
        "import tensorflow as tf\n",
        "from tensorflow.keras.preprocessing.text import Tokenizer\n",
        "from tensorflow.keras.preprocessing.sequence import pad_sequences\n",
        "from tensorflow.keras.models import Sequential\n",
        "from tensorflow.keras.layers import Dense, Flatten, Embedding, Activation,Dropout,LSTM\n",
        "from tensorflow.keras.layers import Conv1D, MaxPooling1D, GlobalMaxPooling1D\n",
        "from tensorflow.keras import regularizers\n",
        "import numpy as np\n",
        "import pandas as pd\n",
        "import tqdm"
      ],
      "execution_count": null,
      "outputs": []
    },
    {
      "cell_type": "code",
      "metadata": {
        "id": "C6dFGs5hpuCn"
      },
      "source": [
        "from sklearn.model_selection import train_test_split"
      ],
      "execution_count": null,
      "outputs": []
    },
    {
      "cell_type": "code",
      "metadata": {
        "id": "1nBBlEHFqZvE"
      },
      "source": [
        "#getting data\n",
        "df = pd.read_csv('/content/drive/MyDrive/NLP/zs1/train_file.csv')"
      ],
      "execution_count": null,
      "outputs": []
    },
    {
      "cell_type": "code",
      "metadata": {
        "id": "SldXGd_ZqmOw"
      },
      "source": [
        "text1 = df['Title'].tolist()\n",
        "text2 = df['Headline'] .tolist()"
      ],
      "execution_count": null,
      "outputs": []
    },
    {
      "cell_type": "code",
      "metadata": {
        "id": "fBRs-P9jq1WY"
      },
      "source": [
        "y1 = df['SentimentTitle'] \n",
        "y2 = df['SentimentHeadline']"
      ],
      "execution_count": null,
      "outputs": []
    },
    {
      "cell_type": "code",
      "metadata": {
        "id": "3ylRGS_ip1DV"
      },
      "source": [
        "token = Tokenizer()\n",
        "token.fit_on_texts(text1)"
      ],
      "execution_count": null,
      "outputs": []
    },
    {
      "cell_type": "code",
      "metadata": {
        "id": "W26f8p8d_853"
      },
      "source": [
        "token2 = Tokenizer()\n",
        "token2.fit_on_texts(text2)"
      ],
      "execution_count": null,
      "outputs": []
    },
    {
      "cell_type": "code",
      "metadata": {
        "colab": {
          "base_uri": "https://localhost:8080/"
        },
        "id": "H1iK0mcwrGA3",
        "outputId": "259f85eb-38fc-4193-983c-5a0d9447bf96"
      },
      "source": [
        "vocab1_size = len(token.index_word) + 1\n",
        "vocab1_size"
      ],
      "execution_count": null,
      "outputs": [
        {
          "output_type": "execute_result",
          "data": {
            "text/plain": [
              "29335"
            ]
          },
          "metadata": {},
          "execution_count": 11
        }
      ]
    },
    {
      "cell_type": "code",
      "metadata": {
        "colab": {
          "base_uri": "https://localhost:8080/"
        },
        "id": "qtdHroW7AbnD",
        "outputId": "7de1baf5-c7c7-4ce2-fb0c-8d982e0b5edc"
      },
      "source": [
        "vocab2_size = len(token2.index_word) + 1\n",
        "vocab2_size"
      ],
      "execution_count": null,
      "outputs": [
        {
          "output_type": "execute_result",
          "data": {
            "text/plain": [
              "42684"
            ]
          },
          "metadata": {},
          "execution_count": 12
        }
      ]
    },
    {
      "cell_type": "code",
      "metadata": {
        "id": "YUoF-unorPvO"
      },
      "source": [
        "#converting to sequences\n",
        "encoded_text1 = token.texts_to_sequences(text1)"
      ],
      "execution_count": null,
      "outputs": []
    },
    {
      "cell_type": "code",
      "metadata": {
        "id": "Jht4IVT1AhYB"
      },
      "source": [
        "#converting to sequences\n",
        "encoded_text2 = token2.texts_to_sequences(text2)"
      ],
      "execution_count": null,
      "outputs": []
    },
    {
      "cell_type": "code",
      "metadata": {
        "id": "XcWlBv7msAjL"
      },
      "source": [
        "encoded_text1"
      ],
      "execution_count": null,
      "outputs": []
    },
    {
      "cell_type": "code",
      "metadata": {
        "id": "CbtQFZZ6A4Fk"
      },
      "source": [
        "encoded_text2"
      ],
      "execution_count": null,
      "outputs": []
    },
    {
      "cell_type": "code",
      "metadata": {
        "id": "Ys1ol-N2sCNz"
      },
      "source": [
        "#taking max_length as 120\n",
        "max_length = 120\n",
        "X1 = pad_sequences(encoded_text1, maxlen=max_length,padding='post')"
      ],
      "execution_count": null,
      "outputs": []
    },
    {
      "cell_type": "code",
      "metadata": {
        "id": "TxQn3SMwA9q7"
      },
      "source": [
        "X2 = pad_sequences(encoded_text2, maxlen=max_length,padding='post')"
      ],
      "execution_count": null,
      "outputs": []
    },
    {
      "cell_type": "code",
      "metadata": {
        "colab": {
          "base_uri": "https://localhost:8080/"
        },
        "id": "U3fnnxWUsPAd",
        "outputId": "11cbccd6-837a-4b92-b32b-e82d6cccd5cd"
      },
      "source": [
        "print(X1)"
      ],
      "execution_count": null,
      "outputs": [
        {
          "output_type": "stream",
          "name": "stdout",
          "text": [
            "[[    3  1877 16178 ...     0     0     0]\n",
            " [   11   326    20 ...     0     0     0]\n",
            " [ 8281  7284    27 ...     0     0     0]\n",
            " ...\n",
            " [  546   589  4616 ...     0     0     0]\n",
            " [    5   467   378 ...     0     0     0]\n",
            " [ 3759     8 13252 ...     0     0     0]]\n"
          ]
        }
      ]
    },
    {
      "cell_type": "code",
      "metadata": {
        "colab": {
          "base_uri": "https://localhost:8080/"
        },
        "id": "rhL3dh16BCs8",
        "outputId": "8f66e064-0f0f-46f2-e5fa-ef9ab9ea6c4e"
      },
      "source": [
        "print(X2)"
      ],
      "execution_count": null,
      "outputs": [
        {
          "output_type": "stream",
          "name": "stdout",
          "text": [
            "[[    9  5498 10338 ...     0     0     0]\n",
            " [ 2461 24612   336 ...     0     0     0]\n",
            " [18746 11163 15692 ...     0     0     0]\n",
            " ...\n",
            " [  104   276   534 ...     0     0     0]\n",
            " [  643   106   613 ...     0     0     0]\n",
            " [   18    74    85 ...     0     0     0]]\n"
          ]
        }
      ]
    },
    {
      "cell_type": "code",
      "metadata": {
        "colab": {
          "base_uri": "https://localhost:8080/"
        },
        "id": "nmEFPdsTsPDM",
        "outputId": "f8f37a53-caf7-4d76-f4e5-283c9bc0f306"
      },
      "source": [
        "X1.shape"
      ],
      "execution_count": null,
      "outputs": [
        {
          "output_type": "execute_result",
          "data": {
            "text/plain": [
              "(55932, 120)"
            ]
          },
          "metadata": {},
          "execution_count": 14
        }
      ]
    },
    {
      "cell_type": "code",
      "metadata": {
        "colab": {
          "base_uri": "https://localhost:8080/"
        },
        "id": "qOzfzzGcBGGL",
        "outputId": "e1c90cd7-a1ae-4abc-a318-4f039db6ebfc"
      },
      "source": [
        "X2.shape"
      ],
      "execution_count": null,
      "outputs": [
        {
          "output_type": "execute_result",
          "data": {
            "text/plain": [
              "(55932, 120)"
            ]
          },
          "metadata": {},
          "execution_count": 38
        }
      ]
    },
    {
      "cell_type": "code",
      "metadata": {
        "id": "hmA80Vx4sPF6"
      },
      "source": [
        "X_train1 , X_test1 , y_train1 , y_test1 = train_test_split(X1,y1,random_state=42,test_size=0.2)"
      ],
      "execution_count": null,
      "outputs": []
    },
    {
      "cell_type": "code",
      "metadata": {
        "id": "mKwqMhX_BH09"
      },
      "source": [
        "X_train2 , X_test2 , y_train2 , y_test2 = train_test_split(X2,y2,random_state=42,test_size=0.2)"
      ],
      "execution_count": null,
      "outputs": []
    },
    {
      "cell_type": "code",
      "metadata": {
        "id": "dE3Qi5-tsPIf"
      },
      "source": [
        "#building model\n",
        "vec_size1 = 300 #300 dimensions\n",
        "\n",
        "model1 = Sequential()\n",
        "model1.add(Embedding(vocab1_size,vec_size1,input_length=max_length))\n",
        "model1.add(Conv1D(64,8,activation='tanh'))\n",
        "model1.add(MaxPooling1D(2))\n",
        "model1.add(Dropout(0.5))\n",
        "model1.add(Dense(32,activation='tanh'))\n",
        "model1.add(Dropout(0.5))\n",
        "model1.add(Dense(16,activation='tanh'))\n",
        "model1.add(GlobalMaxPooling1D())\n",
        "model1.add(Dense(1))\n",
        "\n",
        "model1.compile(optimizer = 'adam', loss='mean_absolute_error')\n"
      ],
      "execution_count": null,
      "outputs": []
    },
    {
      "cell_type": "code",
      "metadata": {
        "id": "26vB3lfwBle7"
      },
      "source": [
        "#building model\n",
        "vec_size2 = 300 #300 dimensions\n",
        "\n",
        "model2 = Sequential()\n",
        "model2.add(Embedding(vocab2_size,vec_size2,input_length=max_length))\n",
        "model2.add(Conv1D(64,8,activation='tanh'))\n",
        "model2.add(MaxPooling1D(2))\n",
        "model2.add(Dropout(0.5))\n",
        "model2.add(Dense(32,activation='tanh'))\n",
        "model2.add(Dropout(0.5))\n",
        "model2.add(Dense(16,activation='tanh'))\n",
        "model2.add(GlobalMaxPooling1D())\n",
        "model2.add(Dense(1))\n",
        "\n",
        "model2.compile(optimizer = 'adam', loss='mean_absolute_error')\n"
      ],
      "execution_count": null,
      "outputs": []
    },
    {
      "cell_type": "code",
      "metadata": {
        "id": "HvPp5tFSJ2pl"
      },
      "source": [
        "#model for lstm title\n",
        "#building a better model\n",
        "#building model\n",
        "vec_size11 = 300 #300 dimensions\n",
        "\n",
        "model11 = Sequential()\n",
        "model11.add(Embedding(vocab1_size,vec_size11,input_length=max_length))\n",
        "model11.add(Conv1D(64,8,activation='tanh'))\n",
        "model11.add(MaxPooling1D(2))\n",
        "model11.add(LSTM(64,activation='tanh'))\n",
        "model11.add(Dropout(0.5))\n",
        "model11.add(Dense(32,activation='tanh'))\n",
        "model11.add(Dropout(0.5))\n",
        "model11.add(Dense(16,activation='tanh'))\n",
        "model11.add(Dense(8,activation='tanh'))\n",
        "model11.add(Dense(1))\n",
        "\n",
        "model11.compile(optimizer = 'adam', loss='mean_absolute_error')"
      ],
      "execution_count": null,
      "outputs": []
    },
    {
      "cell_type": "code",
      "metadata": {
        "colab": {
          "base_uri": "https://localhost:8080/"
        },
        "id": "CovWfwaQ92Ss",
        "outputId": "4407ce3e-c264-446f-c51b-cda1ed397ff2"
      },
      "source": [
        "model11.summary()"
      ],
      "execution_count": null,
      "outputs": [
        {
          "output_type": "stream",
          "name": "stdout",
          "text": [
            "Model: \"sequential_4\"\n",
            "_________________________________________________________________\n",
            "Layer (type)                 Output Shape              Param #   \n",
            "=================================================================\n",
            "embedding_3 (Embedding)      (None, 120, 300)          8800500   \n",
            "_________________________________________________________________\n",
            "conv1d_3 (Conv1D)            (None, 113, 64)           153664    \n",
            "_________________________________________________________________\n",
            "max_pooling1d_3 (MaxPooling1 (None, 56, 64)            0         \n",
            "_________________________________________________________________\n",
            "lstm_3 (LSTM)                (None, 64)                33024     \n",
            "_________________________________________________________________\n",
            "dropout_6 (Dropout)          (None, 64)                0         \n",
            "_________________________________________________________________\n",
            "dense_12 (Dense)             (None, 32)                2080      \n",
            "_________________________________________________________________\n",
            "dropout_7 (Dropout)          (None, 32)                0         \n",
            "_________________________________________________________________\n",
            "dense_13 (Dense)             (None, 16)                528       \n",
            "_________________________________________________________________\n",
            "dense_14 (Dense)             (None, 8)                 136       \n",
            "_________________________________________________________________\n",
            "dense_15 (Dense)             (None, 1)                 9         \n",
            "=================================================================\n",
            "Total params: 8,989,941\n",
            "Trainable params: 8,989,941\n",
            "Non-trainable params: 0\n",
            "_________________________________________________________________\n"
          ]
        }
      ]
    },
    {
      "cell_type": "code",
      "metadata": {
        "id": "FolPje2fxP0B"
      },
      "source": [
        "#adding callbacks\n",
        "from keras.callbacks import ModelCheckpoint, EarlyStopping\n",
        "checkpoint = ModelCheckpoint('dl1_model1.h5',save_best_only=True)\n",
        "earlystopper = EarlyStopping(monitor='val_loss' , patience=10 , restore_best_weights=True)"
      ],
      "execution_count": null,
      "outputs": []
    },
    {
      "cell_type": "code",
      "metadata": {
        "colab": {
          "base_uri": "https://localhost:8080/"
        },
        "id": "Mb2LdhYRsPK9",
        "outputId": "95b59b07-b14d-45b7-c6ba-0e7d97f56d86"
      },
      "source": [
        "\n",
        "#fitting model\n",
        "%%time\n",
        "history1 = model1.fit(X_train1,y_train1,epochs=100,validation_data=(X_test1,y_test1),callbacks=[checkpoint,earlystopper], verbose=2)"
      ],
      "execution_count": null,
      "outputs": [
        {
          "output_type": "stream",
          "name": "stdout",
          "text": [
            "Epoch 1/100\n",
            "1399/1399 - 24s - loss: 0.0877 - val_loss: 0.1600\n",
            "Epoch 2/100\n",
            "1399/1399 - 21s - loss: 0.0670 - val_loss: 0.1608\n",
            "Epoch 3/100\n",
            "1399/1399 - 21s - loss: 0.0613 - val_loss: 0.0943\n",
            "Epoch 4/100\n",
            "1399/1399 - 21s - loss: 0.0585 - val_loss: 0.0994\n",
            "Epoch 5/100\n",
            "1399/1399 - 21s - loss: 0.0560 - val_loss: 0.0841\n",
            "Epoch 6/100\n",
            "1399/1399 - 21s - loss: 0.0539 - val_loss: 0.0614\n",
            "Epoch 7/100\n",
            "1399/1399 - 21s - loss: 0.0523 - val_loss: 0.0682\n",
            "Epoch 8/100\n",
            "1399/1399 - 21s - loss: 0.0511 - val_loss: 0.0603\n",
            "Epoch 9/100\n",
            "1399/1399 - 21s - loss: 0.0497 - val_loss: 0.0677\n",
            "Epoch 10/100\n",
            "1399/1399 - 21s - loss: 0.0491 - val_loss: 0.0619\n",
            "Epoch 11/100\n",
            "1399/1399 - 21s - loss: 0.0480 - val_loss: 0.0589\n",
            "Epoch 12/100\n",
            "1399/1399 - 21s - loss: 0.0474 - val_loss: 0.0590\n",
            "Epoch 13/100\n",
            "1399/1399 - 21s - loss: 0.0468 - val_loss: 0.0603\n",
            "Epoch 14/100\n",
            "1399/1399 - 21s - loss: 0.0468 - val_loss: 0.0614\n",
            "Epoch 15/100\n",
            "1399/1399 - 21s - loss: 0.0467 - val_loss: 0.0623\n",
            "Epoch 16/100\n",
            "1399/1399 - 21s - loss: 0.0460 - val_loss: 0.0599\n",
            "Epoch 17/100\n",
            "1399/1399 - 21s - loss: 0.0458 - val_loss: 0.0590\n",
            "Epoch 18/100\n",
            "1399/1399 - 21s - loss: 0.0456 - val_loss: 0.0590\n",
            "Epoch 19/100\n",
            "1399/1399 - 21s - loss: 0.0456 - val_loss: 0.0589\n",
            "Epoch 20/100\n",
            "1399/1399 - 21s - loss: 0.0453 - val_loss: 0.0595\n",
            "Epoch 21/100\n",
            "1399/1399 - 21s - loss: 0.0450 - val_loss: 0.0585\n",
            "Epoch 22/100\n",
            "1399/1399 - 21s - loss: 0.0451 - val_loss: 0.0595\n",
            "Epoch 23/100\n",
            "1399/1399 - 21s - loss: 0.0450 - val_loss: 0.0598\n",
            "Epoch 24/100\n",
            "1399/1399 - 21s - loss: 0.0446 - val_loss: 0.0585\n",
            "Epoch 25/100\n",
            "1399/1399 - 21s - loss: 0.0448 - val_loss: 0.0589\n",
            "Epoch 26/100\n",
            "1399/1399 - 21s - loss: 0.0446 - val_loss: 0.0598\n",
            "Epoch 27/100\n",
            "1399/1399 - 21s - loss: 0.0445 - val_loss: 0.0585\n",
            "Epoch 28/100\n",
            "1399/1399 - 21s - loss: 0.0446 - val_loss: 0.0599\n",
            "Epoch 29/100\n",
            "1399/1399 - 21s - loss: 0.0445 - val_loss: 0.0597\n",
            "Epoch 30/100\n",
            "1399/1399 - 21s - loss: 0.0441 - val_loss: 0.0590\n",
            "Epoch 31/100\n",
            "1399/1399 - 21s - loss: 0.0444 - val_loss: 0.0598\n",
            "CPU times: user 7min 17s, sys: 59.8 s, total: 8min 17s\n",
            "Wall time: 11min 6s\n"
          ]
        }
      ]
    },
    {
      "cell_type": "code",
      "metadata": {
        "id": "wWzA25chB55Q"
      },
      "source": [
        "checkpoint2 = ModelCheckpoint('dl1_model2.h5',save_best_only=True)\n",
        "earlystopper2 = EarlyStopping(monitor='val_loss' , patience=10 , restore_best_weights=True)"
      ],
      "execution_count": null,
      "outputs": []
    },
    {
      "cell_type": "code",
      "metadata": {
        "id": "rWn9uAc0K-c2"
      },
      "source": [
        "#lstm title\n",
        "checkpoint11 = ModelCheckpoint('dl2_model1.h5',save_best_only=True)\n",
        "earlystopper11 = EarlyStopping(monitor='val_loss' , patience=10 , restore_best_weights=True)"
      ],
      "execution_count": null,
      "outputs": []
    },
    {
      "cell_type": "code",
      "metadata": {
        "id": "pNRdjnklBUDs"
      },
      "source": [
        "\n",
        "#fitting model\n",
        "%%time\n",
        "history2 = model2.fit(X_train2,y_train2,epochs=100,validation_data=(X_test2,y_test2),callbacks=[checkpoint2,earlystopper2])"
      ],
      "execution_count": null,
      "outputs": []
    },
    {
      "cell_type": "code",
      "metadata": {
        "colab": {
          "base_uri": "https://localhost:8080/"
        },
        "id": "ZBlNpcaCLFDE",
        "outputId": "38d8dca7-02b8-460e-ef5b-500c5fbe930c"
      },
      "source": [
        "#training for lstm title\n",
        "#fitting model \n",
        "%%time\n",
        "history11 = model11.fit(X_train1,y_train1,epochs=100,validation_data=(X_test1,y_test1),callbacks=[checkpoint11,earlystopper11])"
      ],
      "execution_count": null,
      "outputs": [
        {
          "output_type": "stream",
          "name": "stdout",
          "text": [
            "Epoch 1/100\n",
            "1399/1399 [==============================] - 40s 27ms/step - loss: 0.0997 - val_loss: 0.0967\n",
            "Epoch 2/100\n",
            "1399/1399 [==============================] - 37s 26ms/step - loss: 0.0971 - val_loss: 0.0962\n",
            "Epoch 3/100\n",
            "1399/1399 [==============================] - 37s 26ms/step - loss: 0.0970 - val_loss: 0.0974\n",
            "Epoch 4/100\n",
            "1399/1399 [==============================] - 37s 26ms/step - loss: 0.0970 - val_loss: 0.0963\n",
            "Epoch 5/100\n",
            "1399/1399 [==============================] - 35s 25ms/step - loss: 0.0970 - val_loss: 0.0969\n",
            "Epoch 6/100\n",
            "1399/1399 [==============================] - 35s 25ms/step - loss: 0.0969 - val_loss: 0.0965\n",
            "Epoch 7/100\n",
            "1399/1399 [==============================] - 35s 25ms/step - loss: 0.0969 - val_loss: 0.0964\n",
            "Epoch 8/100\n",
            "1399/1399 [==============================] - 35s 25ms/step - loss: 0.0968 - val_loss: 0.0964\n",
            "Epoch 9/100\n",
            "1399/1399 [==============================] - 35s 25ms/step - loss: 0.0968 - val_loss: 0.0963\n",
            "Epoch 10/100\n",
            "1399/1399 [==============================] - 35s 25ms/step - loss: 0.0968 - val_loss: 0.0963\n",
            "Epoch 11/100\n",
            "1399/1399 [==============================] - 35s 25ms/step - loss: 0.0968 - val_loss: 0.0962\n",
            "Epoch 12/100\n",
            "1399/1399 [==============================] - 35s 25ms/step - loss: 0.0968 - val_loss: 0.0963\n",
            "Epoch 13/100\n",
            "1399/1399 [==============================] - 35s 25ms/step - loss: 0.0968 - val_loss: 0.0963\n",
            "Epoch 14/100\n",
            "1399/1399 [==============================] - 35s 25ms/step - loss: 0.0968 - val_loss: 0.0964\n",
            "Epoch 15/100\n",
            "1399/1399 [==============================] - 35s 25ms/step - loss: 0.0968 - val_loss: 0.0962\n",
            "Epoch 16/100\n",
            "1399/1399 [==============================] - 35s 25ms/step - loss: 0.0968 - val_loss: 0.0962\n",
            "Epoch 17/100\n",
            "1399/1399 [==============================] - 36s 25ms/step - loss: 0.0968 - val_loss: 0.0962\n",
            "Epoch 18/100\n",
            "1399/1399 [==============================] - 35s 25ms/step - loss: 0.0968 - val_loss: 0.0963\n",
            "Epoch 19/100\n",
            "1399/1399 [==============================] - 35s 25ms/step - loss: 0.0968 - val_loss: 0.0963\n",
            "Epoch 20/100\n",
            "1399/1399 [==============================] - 35s 25ms/step - loss: 0.0968 - val_loss: 0.0962\n",
            "Epoch 21/100\n",
            "1399/1399 [==============================] - 35s 25ms/step - loss: 0.0968 - val_loss: 0.0963\n",
            "Epoch 22/100\n",
            "1399/1399 [==============================] - 35s 25ms/step - loss: 0.0968 - val_loss: 0.0962\n",
            "Epoch 23/100\n",
            "1399/1399 [==============================] - 35s 25ms/step - loss: 0.0968 - val_loss: 0.0962\n",
            "Epoch 24/100\n",
            "1399/1399 [==============================] - 36s 25ms/step - loss: 0.0968 - val_loss: 0.0963\n",
            "Epoch 25/100\n",
            "1399/1399 [==============================] - 35s 25ms/step - loss: 0.0968 - val_loss: 0.0962\n",
            "Epoch 26/100\n",
            "1399/1399 [==============================] - 35s 25ms/step - loss: 0.0968 - val_loss: 0.0962\n",
            "CPU times: user 13min 23s, sys: 1min 6s, total: 14min 29s\n",
            "Wall time: 15min 30s\n"
          ]
        }
      ]
    },
    {
      "cell_type": "code",
      "metadata": {
        "id": "yL_QlDSgr4bm"
      },
      "source": [
        "#lstm model for headline\n",
        "#building a better model\n",
        "#building model\n",
        "vec_size21 = 300 #300 dimensions\n",
        "\n",
        "model21 = Sequential()\n",
        "model21.add(Embedding(vocab2_size,vec_size21,input_length=max_length))\n",
        "model21.add(Conv1D(64,8,activation='tanh'))\n",
        "model21.add(MaxPooling1D(2))\n",
        "model21.add(LSTM(64,activation='tanh'))\n",
        "model21.add(Dropout(0.5))\n",
        "model21.add(Dense(32,activation='tanh'))\n",
        "model21.add(Dropout(0.5))\n",
        "model21.add(Dense(16,activation='tanh'))\n",
        "model21.add(Dense(8,activation='tanh'))\n",
        "model21.add(Dense(1))\n",
        "\n",
        "model21.compile(optimizer = 'adam', loss='mean_absolute_error')"
      ],
      "execution_count": null,
      "outputs": []
    },
    {
      "cell_type": "code",
      "metadata": {
        "colab": {
          "base_uri": "https://localhost:8080/"
        },
        "id": "GPhbNQIl8-EX",
        "outputId": "ac12391c-3179-4b0a-a4f4-1dde712dfab8"
      },
      "source": [
        "model21.summary()"
      ],
      "execution_count": null,
      "outputs": [
        {
          "output_type": "stream",
          "name": "stdout",
          "text": [
            "Model: \"sequential_6\"\n",
            "_________________________________________________________________\n",
            "Layer (type)                 Output Shape              Param #   \n",
            "=================================================================\n",
            "embedding_5 (Embedding)      (None, 120, 300)          12805200  \n",
            "_________________________________________________________________\n",
            "conv1d_5 (Conv1D)            (None, 113, 64)           153664    \n",
            "_________________________________________________________________\n",
            "max_pooling1d_5 (MaxPooling1 (None, 56, 64)            0         \n",
            "_________________________________________________________________\n",
            "lstm_5 (LSTM)                (None, 64)                33024     \n",
            "_________________________________________________________________\n",
            "dropout_10 (Dropout)         (None, 64)                0         \n",
            "_________________________________________________________________\n",
            "dense_20 (Dense)             (None, 32)                2080      \n",
            "_________________________________________________________________\n",
            "dropout_11 (Dropout)         (None, 32)                0         \n",
            "_________________________________________________________________\n",
            "dense_21 (Dense)             (None, 16)                528       \n",
            "_________________________________________________________________\n",
            "dense_22 (Dense)             (None, 8)                 136       \n",
            "_________________________________________________________________\n",
            "dense_23 (Dense)             (None, 1)                 9         \n",
            "=================================================================\n",
            "Total params: 12,994,641\n",
            "Trainable params: 12,994,641\n",
            "Non-trainable params: 0\n",
            "_________________________________________________________________\n"
          ]
        }
      ]
    },
    {
      "cell_type": "code",
      "metadata": {
        "id": "o5UBSpZQsfAG"
      },
      "source": [
        "#lstm head\n",
        "checkpoint21 = ModelCheckpoint('dl2_model2.h5',save_best_only=True)\n",
        "earlystopper21 = EarlyStopping(monitor='val_loss' , patience=10 , restore_best_weights=True)"
      ],
      "execution_count": null,
      "outputs": []
    },
    {
      "cell_type": "code",
      "metadata": {
        "colab": {
          "base_uri": "https://localhost:8080/"
        },
        "id": "NAMeT0njsn_A",
        "outputId": "d4ee22b6-0c08-4d34-e290-5b7135c73d25"
      },
      "source": [
        "#training for lstm title\n",
        "#fitting model \n",
        "%%time\n",
        "history21 = model21.fit(X_train2,y_train2,epochs=100,validation_data=(X_test2,y_test2),callbacks=[checkpoint21,earlystopper21])"
      ],
      "execution_count": null,
      "outputs": [
        {
          "output_type": "stream",
          "name": "stdout",
          "text": [
            "Epoch 1/100\n",
            "1399/1399 [==============================] - 43s 29ms/step - loss: 0.1132 - val_loss: 0.1099\n",
            "Epoch 2/100\n",
            "1399/1399 [==============================] - 40s 29ms/step - loss: 0.1107 - val_loss: 0.1099\n",
            "Epoch 3/100\n",
            "1399/1399 [==============================] - 40s 29ms/step - loss: 0.1106 - val_loss: 0.1096\n",
            "Epoch 4/100\n",
            "1399/1399 [==============================] - 40s 29ms/step - loss: 0.1106 - val_loss: 0.1095\n",
            "Epoch 5/100\n",
            "1399/1399 [==============================] - 40s 29ms/step - loss: 0.1106 - val_loss: 0.1093\n",
            "Epoch 6/100\n",
            "1399/1399 [==============================] - 40s 29ms/step - loss: 0.1105 - val_loss: 0.1093\n",
            "Epoch 7/100\n",
            "1399/1399 [==============================] - 40s 29ms/step - loss: 0.1105 - val_loss: 0.1093\n",
            "Epoch 8/100\n",
            "1399/1399 [==============================] - 40s 29ms/step - loss: 0.1105 - val_loss: 0.1093\n",
            "Epoch 9/100\n",
            "1399/1399 [==============================] - 40s 29ms/step - loss: 0.1105 - val_loss: 0.1099\n",
            "Epoch 10/100\n",
            "1399/1399 [==============================] - 40s 29ms/step - loss: 0.1105 - val_loss: 0.1094\n",
            "Epoch 11/100\n",
            "1399/1399 [==============================] - 40s 29ms/step - loss: 0.1104 - val_loss: 0.1094\n",
            "Epoch 12/100\n",
            "1399/1399 [==============================] - 40s 29ms/step - loss: 0.1104 - val_loss: 0.1095\n",
            "Epoch 13/100\n",
            "1399/1399 [==============================] - 40s 29ms/step - loss: 0.1104 - val_loss: 0.1093\n",
            "Epoch 14/100\n",
            "1399/1399 [==============================] - 40s 29ms/step - loss: 0.1104 - val_loss: 0.1094\n",
            "Epoch 15/100\n",
            "1399/1399 [==============================] - 40s 29ms/step - loss: 0.1104 - val_loss: 0.1093\n",
            "CPU times: user 8min 30s, sys: 41 s, total: 9min 11s\n",
            "Wall time: 10min 6s\n"
          ]
        }
      ]
    },
    {
      "cell_type": "code",
      "metadata": {
        "id": "mFbrZBIRsPNt"
      },
      "source": [
        "history1.history"
      ],
      "execution_count": null,
      "outputs": []
    },
    {
      "cell_type": "code",
      "metadata": {
        "id": "TMbmDdtQsPQl"
      },
      "source": [
        ""
      ],
      "execution_count": null,
      "outputs": []
    },
    {
      "cell_type": "code",
      "metadata": {
        "id": "L3hTYKbrzOV7"
      },
      "source": [
        "#doing the required preprocessing for test data\n",
        "test = pd.read_csv('/content/drive/MyDrive/NLP/zs1/test_file.csv')"
      ],
      "execution_count": null,
      "outputs": []
    },
    {
      "cell_type": "code",
      "metadata": {
        "id": "XMSvJACt-h-P"
      },
      "source": [
        "test.head()"
      ],
      "execution_count": null,
      "outputs": []
    },
    {
      "cell_type": "code",
      "metadata": {
        "id": "ZIj45N0xzxTZ"
      },
      "source": [
        "test_tex1 = test['Title']\n",
        "test_text2 = test['Headline']"
      ],
      "execution_count": null,
      "outputs": []
    },
    {
      "cell_type": "code",
      "metadata": {
        "id": "7AKbrdnP8tH5"
      },
      "source": [
        "#preprocessing the test texts\n",
        "token = Tokenizer()\n",
        "token.fit_on_texts(test_tex1)\n",
        "encoded_test_text1 = token.texts_to_sequences(test_tex1)\n",
        "to_test1 = pad_sequences(encoded_test_text1, maxlen=max_length,padding='post')"
      ],
      "execution_count": null,
      "outputs": []
    },
    {
      "cell_type": "code",
      "metadata": {
        "id": "M3PlNjwXCNKX"
      },
      "source": [
        "#preprocessing the test textst\n",
        "token22 = Tokenizer()\n",
        "token22.fit_on_texts(test_text2)\n",
        "encoded_test_text2 = token.texts_to_sequences(test_text2)\n",
        "to_test2 = pad_sequences(encoded_test_text2, maxlen=max_length,padding='post')"
      ],
      "execution_count": null,
      "outputs": []
    },
    {
      "cell_type": "code",
      "metadata": {
        "id": "o06CJoedzxV-",
        "colab": {
          "base_uri": "https://localhost:8080/"
        },
        "outputId": "a3df5eef-8c78-418d-e402-3da4abb26172"
      },
      "source": [
        "#making prediction -- prediction for lstm model\n",
        "prediction11 = model11.predict(to_test1)\n",
        "prediction11"
      ],
      "execution_count": null,
      "outputs": [
        {
          "output_type": "execute_result",
          "data": {
            "text/plain": [
              "array([[-2.2472705e-07],\n",
              "       [-2.2470886e-07],\n",
              "       [-2.2471613e-07],\n",
              "       ...,\n",
              "       [-2.2472341e-07],\n",
              "       [-2.2471249e-07],\n",
              "       [-2.2473978e-07]], dtype=float32)"
            ]
          },
          "metadata": {},
          "execution_count": 65
        }
      ]
    },
    {
      "cell_type": "code",
      "metadata": {
        "id": "1c9L1t-T-tEZ"
      },
      "source": [
        "#plotting actual vs predicted values\n",
        "plt.scatter(range(20),prediction11,c='r')\n",
        "plt.scatter(range(20),)"
      ],
      "execution_count": null,
      "outputs": []
    },
    {
      "cell_type": "code",
      "metadata": {
        "id": "MeLFG8AbC3IE"
      },
      "source": [
        "#making prediction\n",
        "prediction2 = model2.predict(to_test2)"
      ],
      "execution_count": null,
      "outputs": []
    },
    {
      "cell_type": "code",
      "metadata": {
        "id": "vOQYDAEQxrS7"
      },
      "source": [
        "#predictions for lstm headline\n",
        "prediction21 = model21.predict(to_test2)"
      ],
      "execution_count": null,
      "outputs": []
    },
    {
      "cell_type": "code",
      "metadata": {
        "colab": {
          "base_uri": "https://localhost:8080/"
        },
        "id": "n_YY6p3T3PKn",
        "outputId": "3f3e732f-052c-4e88-c730-b9a4dc318924"
      },
      "source": [
        "prediction21"
      ],
      "execution_count": null,
      "outputs": [
        {
          "output_type": "execute_result",
          "data": {
            "text/plain": [
              "array([[-0.02500014],\n",
              "       [-0.02500014],\n",
              "       [-0.02500008],\n",
              "       ...,\n",
              "       [-0.02500014],\n",
              "       [-0.02500014],\n",
              "       [-0.02500014]], dtype=float32)"
            ]
          },
          "metadata": {},
          "execution_count": 67
        }
      ]
    },
    {
      "cell_type": "code",
      "metadata": {
        "id": "UIdKGZmgzxZA"
      },
      "source": [
        "prediction11 = prediction11.tolist() #lstm"
      ],
      "execution_count": null,
      "outputs": []
    },
    {
      "cell_type": "code",
      "metadata": {
        "id": "AIsocD3FC7YO"
      },
      "source": [
        "prediction2 = prediction2.tolist()"
      ],
      "execution_count": null,
      "outputs": []
    },
    {
      "cell_type": "code",
      "metadata": {
        "id": "PS1ho_fcH6H6"
      },
      "source": [
        "prediction21 = prediction21.tolist()"
      ],
      "execution_count": null,
      "outputs": []
    },
    {
      "cell_type": "code",
      "metadata": {
        "id": "YbO_au2_8mvb"
      },
      "source": [
        "#making a dataframe from the predictions\n",
        "ids = test['IDLink'].tolist()"
      ],
      "execution_count": null,
      "outputs": []
    },
    {
      "cell_type": "code",
      "metadata": {
        "colab": {
          "base_uri": "https://localhost:8080/",
          "height": 204
        },
        "id": "DsXyFzPY8m1H",
        "outputId": "7113731e-8f30-4d96-85eb-2b73eb099465"
      },
      "source": [
        "submission_file_dl1.head()"
      ],
      "execution_count": null,
      "outputs": [
        {
          "output_type": "execute_result",
          "data": {
            "text/html": [
              "<div>\n",
              "<style scoped>\n",
              "    .dataframe tbody tr th:only-of-type {\n",
              "        vertical-align: middle;\n",
              "    }\n",
              "\n",
              "    .dataframe tbody tr th {\n",
              "        vertical-align: top;\n",
              "    }\n",
              "\n",
              "    .dataframe thead th {\n",
              "        text-align: right;\n",
              "    }\n",
              "</style>\n",
              "<table border=\"1\" class=\"dataframe\">\n",
              "  <thead>\n",
              "    <tr style=\"text-align: right;\">\n",
              "      <th></th>\n",
              "      <th>IDLink</th>\n",
              "      <th>SentimentTitle</th>\n",
              "      <th>SentimentHeadline</th>\n",
              "    </tr>\n",
              "  </thead>\n",
              "  <tbody>\n",
              "    <tr>\n",
              "      <th>0</th>\n",
              "      <td>tFrqIR6Chj</td>\n",
              "      <td>[0.06598712503910065]</td>\n",
              "      <td>[-0.160150408744812]</td>\n",
              "    </tr>\n",
              "    <tr>\n",
              "      <th>1</th>\n",
              "      <td>DVAaGErjlF</td>\n",
              "      <td>[-0.08446292579174042]</td>\n",
              "      <td>[-0.09125955402851105]</td>\n",
              "    </tr>\n",
              "    <tr>\n",
              "      <th>2</th>\n",
              "      <td>OT9UIZm5M2</td>\n",
              "      <td>[0.05555082485079765]</td>\n",
              "      <td>[0.1948482245206833]</td>\n",
              "    </tr>\n",
              "    <tr>\n",
              "      <th>3</th>\n",
              "      <td>lflGp3q2Fj</td>\n",
              "      <td>[-0.16036950051784515]</td>\n",
              "      <td>[0.17200297117233276]</td>\n",
              "    </tr>\n",
              "    <tr>\n",
              "      <th>4</th>\n",
              "      <td>zDYG0SoovZ</td>\n",
              "      <td>[-0.040119338780641556]</td>\n",
              "      <td>[-0.16512718796730042]</td>\n",
              "    </tr>\n",
              "  </tbody>\n",
              "</table>\n",
              "</div>"
            ],
            "text/plain": [
              "       IDLink           SentimentTitle       SentimentHeadline\n",
              "0  tFrqIR6Chj    [0.06598712503910065]    [-0.160150408744812]\n",
              "1  DVAaGErjlF   [-0.08446292579174042]  [-0.09125955402851105]\n",
              "2  OT9UIZm5M2    [0.05555082485079765]    [0.1948482245206833]\n",
              "3  lflGp3q2Fj   [-0.16036950051784515]   [0.17200297117233276]\n",
              "4  zDYG0SoovZ  [-0.040119338780641556]  [-0.16512718796730042]"
            ]
          },
          "metadata": {},
          "execution_count": 62
        }
      ]
    },
    {
      "cell_type": "code",
      "metadata": {
        "id": "0QEp8LkiGx3j"
      },
      "source": [
        "import numpy as np\n",
        "submission_file_dl1 = pd.DataFrame(np.column_stack([ids, prediction1, prediction2]), \n",
        "                               columns=['IDLink', 'SentimentTitle', 'SentimentHeadline'])"
      ],
      "execution_count": null,
      "outputs": []
    },
    {
      "cell_type": "code",
      "metadata": {
        "id": "LkEiz_Ptrpe3"
      },
      "source": [
        "import numpy as np\n",
        "submission_file_dl2 = pd.DataFrame(np.column_stack([ids, prediction11, prediction21]), \n",
        "                               columns=['IDLink', 'SentimentTitle', 'SentimentHeadline'])"
      ],
      "execution_count": null,
      "outputs": []
    },
    {
      "cell_type": "code",
      "metadata": {
        "colab": {
          "base_uri": "https://localhost:8080/",
          "height": 204
        },
        "id": "FuUAEdoBIYuS",
        "outputId": "3e08a6fb-da91-4a24-ddbc-2f5a27581b57"
      },
      "source": [
        "submission_file_dl2.head()"
      ],
      "execution_count": null,
      "outputs": [
        {
          "output_type": "execute_result",
          "data": {
            "text/html": [
              "<div>\n",
              "<style scoped>\n",
              "    .dataframe tbody tr th:only-of-type {\n",
              "        vertical-align: middle;\n",
              "    }\n",
              "\n",
              "    .dataframe tbody tr th {\n",
              "        vertical-align: top;\n",
              "    }\n",
              "\n",
              "    .dataframe thead th {\n",
              "        text-align: right;\n",
              "    }\n",
              "</style>\n",
              "<table border=\"1\" class=\"dataframe\">\n",
              "  <thead>\n",
              "    <tr style=\"text-align: right;\">\n",
              "      <th></th>\n",
              "      <th>IDLink</th>\n",
              "      <th>SentimentTitle</th>\n",
              "      <th>SentimentHeadline</th>\n",
              "    </tr>\n",
              "  </thead>\n",
              "  <tbody>\n",
              "    <tr>\n",
              "      <th>0</th>\n",
              "      <td>tFrqIR6Chj</td>\n",
              "      <td>-2.2472704586107284e-07</td>\n",
              "      <td>-0.025000140070915222</td>\n",
              "    </tr>\n",
              "    <tr>\n",
              "      <th>1</th>\n",
              "      <td>DVAaGErjlF</td>\n",
              "      <td>-2.2470885596703738e-07</td>\n",
              "      <td>-0.025000140070915222</td>\n",
              "    </tr>\n",
              "    <tr>\n",
              "      <th>2</th>\n",
              "      <td>OT9UIZm5M2</td>\n",
              "      <td>-2.2471613192465156e-07</td>\n",
              "      <td>-0.025000080466270447</td>\n",
              "    </tr>\n",
              "    <tr>\n",
              "      <th>3</th>\n",
              "      <td>lflGp3q2Fj</td>\n",
              "      <td>-2.2470885596703738e-07</td>\n",
              "      <td>-0.025000136345624924</td>\n",
              "    </tr>\n",
              "    <tr>\n",
              "      <th>4</th>\n",
              "      <td>zDYG0SoovZ</td>\n",
              "      <td>-2.2471249394584447e-07</td>\n",
              "      <td>-0.025000140070915222</td>\n",
              "    </tr>\n",
              "  </tbody>\n",
              "</table>\n",
              "</div>"
            ],
            "text/plain": [
              "       IDLink           SentimentTitle      SentimentHeadline\n",
              "0  tFrqIR6Chj  -2.2472704586107284e-07  -0.025000140070915222\n",
              "1  DVAaGErjlF  -2.2470885596703738e-07  -0.025000140070915222\n",
              "2  OT9UIZm5M2  -2.2471613192465156e-07  -0.025000080466270447\n",
              "3  lflGp3q2Fj  -2.2470885596703738e-07  -0.025000136345624924\n",
              "4  zDYG0SoovZ  -2.2471249394584447e-07  -0.025000140070915222"
            ]
          },
          "metadata": {},
          "execution_count": 71
        }
      ]
    },
    {
      "cell_type": "code",
      "metadata": {
        "id": "FdTMt2aLIcMV"
      },
      "source": [
        "submission_file_dl2.to_csv('submission_file_dl2.csv',index=False)"
      ],
      "execution_count": null,
      "outputs": []
    },
    {
      "cell_type": "code",
      "metadata": {
        "id": "p5DiGcVwInUk"
      },
      "source": [
        ""
      ],
      "execution_count": null,
      "outputs": []
    },
    {
      "cell_type": "markdown",
      "metadata": {
        "id": "KnQdOegZGBHE"
      },
      "source": [
        "#### Training model using  pretrained word vectors / embeddings"
      ]
    },
    {
      "cell_type": "code",
      "metadata": {
        "id": "WEiZ86TIGLxR"
      },
      "source": [
        "#getting glove embeddings\n"
      ],
      "execution_count": null,
      "outputs": []
    },
    {
      "cell_type": "code",
      "metadata": {
        "id": "8fP5PPT6K9OX"
      },
      "source": [
        "SEQUENCE_LENGTH = 120 # the length of all sequences (number of words per sample)\n",
        "EMBEDDING_SIZE = 100  # Using 100-Dimensional GloVe embedding vectors\n",
        "TEST_SIZE = 0.2"
      ],
      "execution_count": null,
      "outputs": []
    },
    {
      "cell_type": "code",
      "metadata": {
        "id": "yiHN8SIFKMCT"
      },
      "source": [
        "def get_embedding_vectors(tokenizer, dim=100):\n",
        "    embedding_index = {}\n",
        "    with open(f\"glove.6B.{dim}d.txt\", encoding='utf8') as f:\n",
        "        for line in tqdm.tqdm(f, \"Reading GloVe\"):\n",
        "            values = line.split()\n",
        "            word = values[0]\n",
        "            vectors = np.asarray(values[1:], dtype='float32')\n",
        "            embedding_index[word] = vectors\n",
        "\n",
        "    word_index = tokenizer.word_index\n",
        "    embedding_matrix = np.zeros((len(word_index)+1, dim))\n",
        "    for word, i in word_index.items():\n",
        "        embedding_vector = embedding_index.get(word)\n",
        "        if embedding_vector is not None:\n",
        "            # words not found will be 0s\n",
        "            embedding_matrix[i] = embedding_vector\n",
        "            \n",
        "    return embedding_matrix"
      ],
      "execution_count": null,
      "outputs": []
    },
    {
      "cell_type": "code",
      "metadata": {
        "id": "8pMouoQkKjfX"
      },
      "source": [
        "#creating the model\n",
        "def get_model(tokenizer, lstm_units):\n",
        "    \"\"\"\n",
        "    Constructs the model,\n",
        "    Embedding vectors => LSTM => 2 output Fully-Connected neurons with softmax activation\n",
        "    \"\"\"\n",
        "    # get the GloVe embedding vectors\n",
        "    embedding_matrix = get_embedding_vectors(tokenizer)\n",
        "    model_pt = Sequential()\n",
        "    model_pt.add(Embedding(len(tokenizer.word_index)+1,\n",
        "              EMBEDDING_SIZE,\n",
        "              weights=[embedding_matrix],\n",
        "              trainable=False,\n",
        "              input_length=SEQUENCE_LENGTH))\n",
        "\n",
        "    model_pt.add(LSTM(lstm_units))\n",
        "    model_pt.add(Dropout(0.3))\n",
        "    model_pt.add(Dense(10, activation=\"relu\"))\n",
        "    model_pt.add(Dense(1))\n",
        "    # compile as rmsprop optimizer\n",
        "    # aswell as with recall metric\n",
        "    model_pt.compile(optimizer = 'adam', loss='mean_absolute_error')\n",
        "    model_pt.summary()\n",
        "    return model_pt"
      ],
      "execution_count": null,
      "outputs": []
    },
    {
      "cell_type": "code",
      "metadata": {
        "colab": {
          "base_uri": "https://localhost:8080/"
        },
        "id": "H6B0t_9xLigI",
        "outputId": "e757c70d-3ad4-4b30-d791-5e006a40afe0"
      },
      "source": [
        "model_pt1 = get_model(tokenizer=token,lstm_units = 64)"
      ],
      "execution_count": null,
      "outputs": [
        {
          "output_type": "stream",
          "name": "stderr",
          "text": [
            "Reading GloVe: 400000it [00:15, 25538.00it/s]\n"
          ]
        },
        {
          "output_type": "stream",
          "name": "stdout",
          "text": [
            "Model: \"sequential\"\n",
            "_________________________________________________________________\n",
            "Layer (type)                 Output Shape              Param #   \n",
            "=================================================================\n",
            "embedding (Embedding)        (None, 120, 100)          2933500   \n",
            "_________________________________________________________________\n",
            "lstm (LSTM)                  (None, 64)                42240     \n",
            "_________________________________________________________________\n",
            "dropout (Dropout)            (None, 64)                0         \n",
            "_________________________________________________________________\n",
            "dense (Dense)                (None, 10)                650       \n",
            "_________________________________________________________________\n",
            "dense_1 (Dense)              (None, 1)                 11        \n",
            "=================================================================\n",
            "Total params: 2,976,401\n",
            "Trainable params: 42,901\n",
            "Non-trainable params: 2,933,500\n",
            "_________________________________________________________________\n"
          ]
        }
      ]
    },
    {
      "cell_type": "code",
      "metadata": {
        "colab": {
          "base_uri": "https://localhost:8080/"
        },
        "id": "lhsGGdaCLrnm",
        "outputId": "47293464-19ce-45fc-dd01-aec15608d024"
      },
      "source": [
        "#pretrained embeddings\n",
        "from keras.callbacks import ModelCheckpoint, EarlyStopping\n",
        "checkpoint31 = ModelCheckpoint('dl1_model3_embeddings.h5',save_best_only=True)\n",
        "earlystopper31 = EarlyStopping(monitor='val_loss' , patience=10 , restore_best_weights=True)\n",
        "# train the model\n",
        "history31 = model_pt1.fit(X_train1,y_train1,epochs=100,validation_data=(X_test1,y_test1),callbacks=[checkpoint31,earlystopper31])"
      ],
      "execution_count": null,
      "outputs": [
        {
          "output_type": "stream",
          "name": "stdout",
          "text": [
            "Epoch 1/100\n",
            "1399/1399 [==============================] - 45s 27ms/step - loss: 0.0968 - val_loss: 0.0962\n",
            "Epoch 2/100\n",
            "1399/1399 [==============================] - 38s 27ms/step - loss: 0.0968 - val_loss: 0.0962\n",
            "Epoch 3/100\n",
            "1399/1399 [==============================] - 38s 27ms/step - loss: 0.0968 - val_loss: 0.0962\n",
            "Epoch 4/100\n",
            "1399/1399 [==============================] - 38s 27ms/step - loss: 0.0968 - val_loss: 0.0962\n",
            "Epoch 5/100\n",
            "1399/1399 [==============================] - 38s 27ms/step - loss: 0.0968 - val_loss: 0.0964\n",
            "Epoch 6/100\n",
            "1399/1399 [==============================] - 38s 27ms/step - loss: 0.0968 - val_loss: 0.0962\n",
            "Epoch 7/100\n",
            "1399/1399 [==============================] - 38s 27ms/step - loss: 0.0968 - val_loss: 0.0963\n",
            "Epoch 8/100\n",
            "1399/1399 [==============================] - 38s 27ms/step - loss: 0.0968 - val_loss: 0.0962\n",
            "Epoch 9/100\n",
            "1399/1399 [==============================] - 38s 27ms/step - loss: 0.0968 - val_loss: 0.0962\n",
            "Epoch 10/100\n",
            "1399/1399 [==============================] - 38s 27ms/step - loss: 0.0968 - val_loss: 0.0963\n",
            "Epoch 11/100\n",
            "1399/1399 [==============================] - 38s 27ms/step - loss: 0.0968 - val_loss: 0.0963\n",
            "Epoch 12/100\n",
            "1399/1399 [==============================] - 38s 27ms/step - loss: 0.0968 - val_loss: 0.0963\n",
            "Epoch 13/100\n",
            "1399/1399 [==============================] - 38s 27ms/step - loss: 0.0968 - val_loss: 0.0963\n",
            "Epoch 14/100\n",
            "1399/1399 [==============================] - 38s 27ms/step - loss: 0.0968 - val_loss: 0.0962\n",
            "Epoch 15/100\n",
            "1399/1399 [==============================] - 38s 27ms/step - loss: 0.0968 - val_loss: 0.0962\n",
            "Epoch 16/100\n",
            "1399/1399 [==============================] - 38s 27ms/step - loss: 0.0968 - val_loss: 0.0962\n",
            "Epoch 17/100\n",
            "1399/1399 [==============================] - 38s 27ms/step - loss: 0.0968 - val_loss: 0.0962\n",
            "Epoch 18/100\n",
            "1399/1399 [==============================] - 38s 27ms/step - loss: 0.0968 - val_loss: 0.0962\n",
            "Epoch 19/100\n",
            "1399/1399 [==============================] - 38s 27ms/step - loss: 0.0968 - val_loss: 0.0962\n",
            "Epoch 20/100\n",
            "1399/1399 [==============================] - 38s 27ms/step - loss: 0.0967 - val_loss: 0.0962\n",
            "Epoch 21/100\n",
            "1399/1399 [==============================] - 38s 27ms/step - loss: 0.0968 - val_loss: 0.0962\n",
            "Epoch 22/100\n",
            "1399/1399 [==============================] - 38s 27ms/step - loss: 0.0968 - val_loss: 0.0963\n",
            "Epoch 23/100\n",
            "1399/1399 [==============================] - 38s 27ms/step - loss: 0.0968 - val_loss: 0.0963\n",
            "Epoch 24/100\n",
            "1399/1399 [==============================] - 37s 27ms/step - loss: 0.0968 - val_loss: 0.0962\n",
            "Epoch 25/100\n",
            "1399/1399 [==============================] - 37s 27ms/step - loss: 0.0968 - val_loss: 0.0962\n",
            "Epoch 26/100\n",
            "1399/1399 [==============================] - 37s 27ms/step - loss: 0.0968 - val_loss: 0.0963\n",
            "Epoch 27/100\n",
            "1399/1399 [==============================] - 37s 27ms/step - loss: 0.0968 - val_loss: 0.0962\n",
            "Epoch 28/100\n",
            "1399/1399 [==============================] - 38s 27ms/step - loss: 0.0968 - val_loss: 0.0962\n",
            "Epoch 29/100\n",
            "1399/1399 [==============================] - 37s 27ms/step - loss: 0.0968 - val_loss: 0.0963\n",
            "Epoch 30/100\n",
            "1399/1399 [==============================] - 37s 27ms/step - loss: 0.0967 - val_loss: 0.0962\n",
            "Epoch 31/100\n",
            "1399/1399 [==============================] - 38s 27ms/step - loss: 0.0968 - val_loss: 0.0962\n"
          ]
        }
      ]
    },
    {
      "cell_type": "code",
      "metadata": {
        "colab": {
          "base_uri": "https://localhost:8080/"
        },
        "id": "RXSDsHaDYSRm",
        "outputId": "90da07db-704e-4c77-f31a-6a5a4265a2b5"
      },
      "source": [
        "#fitting on headline input\n",
        "checkpoint32 = ModelCheckpoint('dl2_model3_embeddings.h5',save_best_only=True)\n",
        "earlystopper32 = EarlyStopping(monitor='val_loss' , patience=10 , restore_best_weights=True)\n",
        "# train the model\n",
        "history31 = model_pt1.fit(X_train2,y_train2,epochs=100,validation_data=(X_test2,y_test2),callbacks=[checkpoint32,earlystopper32])"
      ],
      "execution_count": null,
      "outputs": [
        {
          "output_type": "stream",
          "name": "stdout",
          "text": [
            "Epoch 1/100\n",
            "1399/1399 [==============================] - 38s 27ms/step - loss: 0.1104 - val_loss: 0.1093\n",
            "Epoch 2/100\n",
            "1399/1399 [==============================] - 38s 27ms/step - loss: 0.1103 - val_loss: 0.1093\n",
            "Epoch 3/100\n",
            "1399/1399 [==============================] - 37s 27ms/step - loss: 0.1103 - val_loss: 0.1093\n",
            "Epoch 4/100\n",
            "1399/1399 [==============================] - 38s 27ms/step - loss: 0.1103 - val_loss: 0.1095\n",
            "Epoch 5/100\n",
            "1399/1399 [==============================] - 37s 27ms/step - loss: 0.1104 - val_loss: 0.1093\n",
            "Epoch 6/100\n",
            "1399/1399 [==============================] - 38s 27ms/step - loss: 0.1104 - val_loss: 0.1093\n",
            "Epoch 7/100\n",
            "1399/1399 [==============================] - 37s 27ms/step - loss: 0.1103 - val_loss: 0.1093\n",
            "Epoch 8/100\n",
            "1399/1399 [==============================] - 38s 27ms/step - loss: 0.1103 - val_loss: 0.1093\n",
            "Epoch 9/100\n",
            "1399/1399 [==============================] - 38s 27ms/step - loss: 0.1103 - val_loss: 0.1093\n",
            "Epoch 10/100\n",
            "1399/1399 [==============================] - 38s 27ms/step - loss: 0.1103 - val_loss: 0.1093\n",
            "Epoch 11/100\n",
            "1399/1399 [==============================] - 38s 27ms/step - loss: 0.1103 - val_loss: 0.1093\n",
            "Epoch 12/100\n",
            "1399/1399 [==============================] - 38s 27ms/step - loss: 0.1103 - val_loss: 0.1093\n",
            "Epoch 13/100\n",
            "1399/1399 [==============================] - 38s 27ms/step - loss: 0.1103 - val_loss: 0.1093\n",
            "Epoch 14/100\n",
            "1399/1399 [==============================] - 38s 27ms/step - loss: 0.1103 - val_loss: 0.1094\n",
            "Epoch 15/100\n",
            "1399/1399 [==============================] - 38s 27ms/step - loss: 0.1103 - val_loss: 0.1093\n",
            "Epoch 16/100\n",
            "1399/1399 [==============================] - 38s 27ms/step - loss: 0.1103 - val_loss: 0.1093\n",
            "Epoch 17/100\n",
            "1399/1399 [==============================] - 38s 27ms/step - loss: 0.1103 - val_loss: 0.1094\n"
          ]
        }
      ]
    },
    {
      "cell_type": "code",
      "metadata": {
        "id": "8LWg-eJkNFZX"
      },
      "source": [
        "#doing the required preprocessing for test data\n",
        "test = pd.read_csv('/content/drive/MyDrive/NLP/zs1/test_file.csv')"
      ],
      "execution_count": null,
      "outputs": []
    },
    {
      "cell_type": "code",
      "metadata": {
        "id": "pPruNphhXv83"
      },
      "source": [
        "test_tex1 = test['Title']\n",
        "test_text2 = test['Headline']"
      ],
      "execution_count": null,
      "outputs": []
    },
    {
      "cell_type": "code",
      "metadata": {
        "id": "cD8CbmS5Xyd-"
      },
      "source": [
        "#preprocessing the test texts\n",
        "#preprocessing the test texts\n",
        "token = Tokenizer()\n",
        "token.fit_on_texts(test_tex1)\n",
        "encoded_test_text1 = token.texts_to_sequences(test_tex1)\n",
        "to_test1 = pad_sequences(encoded_test_text1, maxlen=max_length,padding='post')"
      ],
      "execution_count": null,
      "outputs": []
    },
    {
      "cell_type": "code",
      "metadata": {
        "id": "ZilqVWNTX6Cl"
      },
      "source": [
        "#preprocessing the test textst\n",
        "token2 = Tokenizer()\n",
        "token2.fit_on_texts(test_text2)\n",
        "encoded_test_text2 = token.texts_to_sequences(test_text2)\n",
        "to_test2 = pad_sequences(encoded_test_text2, maxlen=max_length,padding='post')"
      ],
      "execution_count": null,
      "outputs": []
    },
    {
      "cell_type": "code",
      "metadata": {
        "id": "SCNbWPu_X_ou"
      },
      "source": [
        "#making prediction -- prediction for lstm model\n",
        "prediction1 = model_pt1.predict(to_test1)\n",
        "prediction1 = prediction1.tolist()"
      ],
      "execution_count": null,
      "outputs": []
    },
    {
      "cell_type": "code",
      "metadata": {
        "id": "XvmvfodrYOL3"
      },
      "source": [
        "#making prediction -- prediction for lstm model\n",
        "prediction2 = model_pt1.predict(to_test2)\n",
        "prediction2 = prediction2.tolist()"
      ],
      "execution_count": null,
      "outputs": []
    },
    {
      "cell_type": "code",
      "metadata": {
        "id": "Gw6GffVzZOL1"
      },
      "source": [
        "#making a dataframe from the predictions\n",
        "ids = test['IDLink'].tolist()"
      ],
      "execution_count": null,
      "outputs": []
    },
    {
      "cell_type": "code",
      "metadata": {
        "id": "AGEccjLBZQjD"
      },
      "source": [
        "import numpy as np\n",
        "submission_file_dl4 = pd.DataFrame(np.column_stack([ids, prediction1, prediction2]), \n",
        "                               columns=['IDLink', 'SentimentTitle', 'SentimentHeadline'])"
      ],
      "execution_count": null,
      "outputs": []
    },
    {
      "cell_type": "code",
      "metadata": {
        "id": "SDFHX4Mdbu-_"
      },
      "source": [
        "submission_file_dl4.to_csv('submission_file_dl4.csv',index=False)"
      ],
      "execution_count": null,
      "outputs": []
    },
    {
      "cell_type": "code",
      "metadata": {
        "id": "dvYB80ATbx7n"
      },
      "source": [
        ""
      ],
      "execution_count": null,
      "outputs": []
    }
  ]
}